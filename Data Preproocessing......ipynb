{
 "cells": [
  {
   "cell_type": "markdown",
   "id": "fb4f4e21-b55b-413f-b2bb-1f21123bcbb5",
   "metadata": {},
   "source": [
    "pip install nltk"
   ]
  },
  {
   "cell_type": "code",
   "execution_count": null,
   "id": "0c893c2e-4010-487c-8430-bcb9921f6786",
   "metadata": {},
   "outputs": [],
   "source": [
    "import nltk\n",
    "nltk.download()"
   ]
  },
  {
   "cell_type": "markdown",
   "id": "6a7a2f34-8a0c-4edc-9a57-e5830d673153",
   "metadata": {},
   "source": [
    "# DATA Preprocessing"
   ]
  },
  {
   "cell_type": "code",
   "execution_count": 1,
   "id": "66f3465a-8ad9-4a0f-aff8-b2dcdabae4db",
   "metadata": {},
   "outputs": [
    {
     "name": "stdout",
     "output_type": "stream",
     "text": [
      "Barack Obama went as a prime minister of USA in the year of 2015 . PM MODI is the prime minister of INDIA.\n"
     ]
    }
   ],
   "source": [
    "input = \"Barack Obama went as a prime minister of USA in the year of 2015 . PM MODI is the prime minister of INDIA.\"\n",
    "print(input)"
   ]
  },
  {
   "cell_type": "code",
   "execution_count": 2,
   "id": "dfb2ded8-f57d-424d-bd36-68669edcd810",
   "metadata": {},
   "outputs": [
    {
     "name": "stdout",
     "output_type": "stream",
     "text": [
      "LOWERCSE =  barack obama went as a prime minister of usa in the year of 2015 . pm modi is the prime minister of india.\n",
      "REGULAR EXP1 =  barack obama went as a prime minister of usa in the year of 2025 . pm modi is the prime minister of india.\n",
      "REGULAR EXP2 =  **r*** o**** w*nt *s * pr*** **n*st*r o* us* *n t** y**r o* 2015 . p* *o** *s t** pr*** **n*st*r o* *n***.\n",
      "REGULAR EXP3 =  barack obama went as a prime minister of usa in the year of ---- . pm modi is the prime minister of india.\n"
     ]
    }
   ],
   "source": [
    "#(1)lowercase\n",
    "lowercase = input.lower()\n",
    "print(\"LOWERCSE = \", lowercase)\n",
    "\n",
    "#re\n",
    "#pip install re\n",
    "import re\n",
    "lowercase_re = re.sub('2015', '2025', lowercase)\n",
    "print(\"REGULAR EXP1 = \", lowercase_re)\n",
    "lowercase_re = re.sub('[a-m]', '*', lowercase)\n",
    "print(\"REGULAR EXP2 = \", lowercase_re)\n",
    "lowercase_re = re.sub('\\d', '-', lowercase)\n",
    "print(\"REGULAR EXP3 = \", lowercase_re)"
   ]
  },
  {
   "cell_type": "code",
   "execution_count": 4,
   "id": "a3cf7f02-3b08-4e12-95f5-7f4f5879b3b9",
   "metadata": {},
   "outputs": [
    {
     "name": "stdout",
     "output_type": "stream",
     "text": [
      "WORD TOKENS =  ['Barack', 'Obama', 'went', 'as', 'a', 'prime', 'minister', 'of', 'USA', 'in', 'the', 'year', 'of', '2015', '.', 'PM', 'MODI', 'is', 'the', 'prime', 'minister', 'of', 'INDIA', '.']\n",
      "24\n",
      "SENT TOKENS =  ['Barack Obama went as a prime minister of USA in the year of 2015 .', 'PM MODI is the prime minister of INDIA.']\n",
      "2\n"
     ]
    }
   ],
   "source": [
    "#(2)Tokenization\n",
    "import nltk\n",
    "from nltk import word_tokenize, sent_tokenize\n",
    "\n",
    "word_tokens = word_tokenize(input)\n",
    "print(\"WORD TOKENS = \", word_tokens)\n",
    "print(len(word_tokens))\n",
    "sent_tokens = sent_tokenize(input)\n",
    "print(\"SENT TOKENS = \", sent_tokens)\n",
    "print(len(sent_tokens))"
   ]
  },
  {
   "cell_type": "code",
   "execution_count": 5,
   "id": "15e1b96d-aaf0-4337-aaec-f40dd614f7e1",
   "metadata": {},
   "outputs": [
    {
     "name": "stdout",
     "output_type": "stream",
     "text": [
      "Barack Obama went prime minister USA year 2015 . PM MODI prime minister INDIA .\n"
     ]
    }
   ],
   "source": [
    "#(3)stopwords Removal\n",
    "from nltk.corpus import stopwords\n",
    "#print(stopwords.fileids())\n",
    "stopwords = set(stopwords.words('english'))\n",
    "#print(\"\\n\", stopwords)\n",
    "\n",
    "tokens_stopwords = []\n",
    "for token in word_tokens:\n",
    "    if token not in stopwords:\n",
    "        tokens_stopwords.append(token)\n",
    "print(' '.join(tokens_stopwords))"
   ]
  },
  {
   "cell_type": "code",
   "execution_count": 6,
   "id": "c7f28ff1-eadc-409f-9541-4b81b9422025",
   "metadata": {},
   "outputs": [
    {
     "name": "stdout",
     "output_type": "stream",
     "text": [
      "['barack', 'obama', 'went', 'prime', 'minist', 'usa', 'year', '2015', '.', 'pm', 'modi', 'prime', 'minist', 'india', '.']\n"
     ]
    }
   ],
   "source": [
    "#Stemmer\n",
    "stemming = []\n",
    "from nltk import PorterStemmer\n",
    "for word in tokens_stopwords:\n",
    "    stemming.append(PorterStemmer().stem(word))\n",
    "print(stemming)"
   ]
  },
  {
   "cell_type": "code",
   "execution_count": 8,
   "id": "79fda192-9765-41b7-8bd1-722f580f8234",
   "metadata": {},
   "outputs": [
    {
     "name": "stdout",
     "output_type": "stream",
     "text": [
      "['Barack', 'Obama', 'went', 'prime', 'minister', 'USA', 'year', '2015', '.', 'PM', 'MODI', 'prime', 'minister', 'INDIA', '.']\n"
     ]
    }
   ],
   "source": [
    "#Lemmatizer\n",
    "from nltk import WordNetLemmatizer\n",
    "lma = []\n",
    "for word in tokens_stopwords:\n",
    "    lma.append(WordNetLemmatizer().lemmatize(word))\n",
    "print(lma)"
   ]
  },
  {
   "cell_type": "code",
   "execution_count": 9,
   "id": "2a2bc1cf-9006-426f-a717-48d481e69e5f",
   "metadata": {},
   "outputs": [
    {
     "name": "stdout",
     "output_type": "stream",
     "text": [
      "[('Barack', 'NNP'), ('Obama', 'NNP'), ('went', 'VBD'), ('as', 'IN'), ('a', 'DT'), ('prime', 'JJ'), ('minister', 'NN'), ('of', 'IN'), ('USA', 'NNP'), ('in', 'IN'), ('the', 'DT'), ('year', 'NN'), ('of', 'IN'), ('2015', 'CD'), ('.', '.'), ('PM', 'NNP'), ('MODI', 'NNP'), ('is', 'VBZ'), ('the', 'DT'), ('prime', 'JJ'), ('minister', 'NN'), ('of', 'IN'), ('INDIA', 'NNP'), ('.', '.')]\n"
     ]
    }
   ],
   "source": [
    "#POS Tags\n",
    "from nltk import pos_tag\n",
    "print(pos_tag(word_tokens))"
   ]
  },
  {
   "cell_type": "code",
   "execution_count": 10,
   "id": "0234d2c8-9896-4dae-87a2-c2499f6ff48d",
   "metadata": {},
   "outputs": [
    {
     "data": {
      "text/plain": [
       "['The', 'Fulton', 'County', 'Grand', 'Jury', 'said', ...]"
      ]
     },
     "execution_count": 10,
     "metadata": {},
     "output_type": "execute_result"
    }
   ],
   "source": [
    "from nltk.corpus import brown\n",
    "brown.words()"
   ]
  },
  {
   "cell_type": "code",
   "execution_count": 11,
   "id": "231bfed1-10fe-4f88-aef3-49dd7d2c01d9",
   "metadata": {},
   "outputs": [
    {
     "name": "stdout",
     "output_type": "stream",
     "text": [
      "*** Introductory Examples for the NLTK Book ***\n",
      "Loading text1, ..., text9 and sent1, ..., sent9\n",
      "Type the name of the text or sentence to view it.\n",
      "Type: 'texts()' or 'sents()' to list the materials.\n",
      "text1: Moby Dick by Herman Melville 1851\n",
      "text2: Sense and Sensibility by Jane Austen 1811\n",
      "text3: The Book of Genesis\n",
      "text4: Inaugural Address Corpus\n",
      "text5: Chat Corpus\n",
      "text6: Monty Python and the Holy Grail\n",
      "text7: Wall Street Journal\n",
      "text8: Personals Corpus\n",
      "text9: The Man Who Was Thursday by G . K . Chesterton 1908\n"
     ]
    }
   ],
   "source": [
    "from nltk.book import *"
   ]
  },
  {
   "cell_type": "code",
   "execution_count": 15,
   "id": "dccd7b70-1a56-4b25-b028-3a3fc594956f",
   "metadata": {},
   "outputs": [
    {
     "data": {
      "text/plain": [
       "<Text: Moby Dick by Herman Melville 1851>"
      ]
     },
     "execution_count": 15,
     "metadata": {},
     "output_type": "execute_result"
    }
   ],
   "source": [
    "text1"
   ]
  },
  {
   "cell_type": "code",
   "execution_count": 16,
   "id": "b83efed9-55c9-4985-bbf8-eb5a24fa32da",
   "metadata": {},
   "outputs": [
    {
     "data": {
      "text/plain": [
       "<Text: Sense and Sensibility by Jane Austen 1811>"
      ]
     },
     "execution_count": 16,
     "metadata": {},
     "output_type": "execute_result"
    }
   ],
   "source": [
    "text2"
   ]
  },
  {
   "cell_type": "code",
   "execution_count": 17,
   "id": "73719160-db1b-4d5a-8aa5-4abd3516cd0b",
   "metadata": {},
   "outputs": [
    {
     "name": "stdout",
     "output_type": "stream",
     "text": [
      "Displaying 11 of 11 matches:\n",
      "ong the former , one was of a most monstrous size . ... This came towards us , \n",
      "ON OF THE PSALMS . \" Touching that monstrous bulk of the whale or ork we have r\n",
      "ll over with a heathenish array of monstrous clubs and spears . Some were thick\n",
      "d as you gazed , and wondered what monstrous cannibal and savage could ever hav\n",
      "that has survived the flood ; most monstrous and most mountainous ! That Himmal\n",
      "they might scout at Moby Dick as a monstrous fable , or still worse and more de\n",
      "th of Radney .'\" CHAPTER 55 Of the Monstrous Pictures of Whales . I shall ere l\n",
      "ing Scenes . In connexion with the monstrous pictures of whales , I am strongly\n",
      "ere to enter upon those still more monstrous stories of them which are to be fo\n",
      "ght have been rummaged out of this monstrous cabinet there is no telling . But \n",
      "of Whale - Bones ; for Whales of a monstrous size are oftentimes cast up dead u\n"
     ]
    }
   ],
   "source": [
    "text1.concordance(\"monstrous\")"
   ]
  },
  {
   "cell_type": "code",
   "execution_count": 18,
   "id": "6a47ecc8-3406-41be-a0fd-ff92569b8a3e",
   "metadata": {},
   "outputs": [
    {
     "name": "stdout",
     "output_type": "stream",
     "text": [
      "true contemptible christian abundant few part mean careful puzzled\n",
      "mystifying passing curious loving wise doleful gamesome singular\n",
      "delightfully perilous fearless\n"
     ]
    }
   ],
   "source": [
    "text1.similar(\"monstrous\")"
   ]
  },
  {
   "cell_type": "code",
   "execution_count": 19,
   "id": "11482325-798e-4ccb-b35f-ea930a976837",
   "metadata": {},
   "outputs": [
    {
     "name": "stdout",
     "output_type": "stream",
     "text": [
      "very so exceedingly heartily a as good great extremely remarkably\n",
      "sweet vast amazingly\n"
     ]
    }
   ],
   "source": [
    "text2.similar(\"monstrous\")"
   ]
  },
  {
   "cell_type": "code",
   "execution_count": 20,
   "id": "6091dd00-149a-41c7-9f69-cf2b4d24113e",
   "metadata": {},
   "outputs": [
    {
     "name": "stdout",
     "output_type": "stream",
     "text": [
      "Requirement already satisfied: spacy in c:\\users\\admin\\appdata\\local\\programs\\python\\python310\\lib\\site-packages (3.8.7)\n",
      "Requirement already satisfied: spacy-legacy<3.1.0,>=3.0.11 in c:\\users\\admin\\appdata\\local\\programs\\python\\python310\\lib\\site-packages (from spacy) (3.0.12)\n",
      "Requirement already satisfied: spacy-loggers<2.0.0,>=1.0.0 in c:\\users\\admin\\appdata\\local\\programs\\python\\python310\\lib\\site-packages (from spacy) (1.0.5)\n",
      "Requirement already satisfied: murmurhash<1.1.0,>=0.28.0 in c:\\users\\admin\\appdata\\local\\programs\\python\\python310\\lib\\site-packages (from spacy) (1.0.13)\n",
      "Requirement already satisfied: cymem<2.1.0,>=2.0.2 in c:\\users\\admin\\appdata\\local\\programs\\python\\python310\\lib\\site-packages (from spacy) (2.0.11)\n",
      "Requirement already satisfied: preshed<3.1.0,>=3.0.2 in c:\\users\\admin\\appdata\\local\\programs\\python\\python310\\lib\\site-packages (from spacy) (3.0.10)\n",
      "Requirement already satisfied: thinc<8.4.0,>=8.3.4 in c:\\users\\admin\\appdata\\local\\programs\\python\\python310\\lib\\site-packages (from spacy) (8.3.6)\n",
      "Requirement already satisfied: wasabi<1.2.0,>=0.9.1 in c:\\users\\admin\\appdata\\local\\programs\\python\\python310\\lib\\site-packages (from spacy) (1.1.3)\n",
      "Requirement already satisfied: srsly<3.0.0,>=2.4.3 in c:\\users\\admin\\appdata\\local\\programs\\python\\python310\\lib\\site-packages (from spacy) (2.5.1)\n",
      "Requirement already satisfied: catalogue<2.1.0,>=2.0.6 in c:\\users\\admin\\appdata\\local\\programs\\python\\python310\\lib\\site-packages (from spacy) (2.0.10)\n",
      "Requirement already satisfied: weasel<0.5.0,>=0.1.0 in c:\\users\\admin\\appdata\\local\\programs\\python\\python310\\lib\\site-packages (from spacy) (0.4.1)\n",
      "Requirement already satisfied: typer<1.0.0,>=0.3.0 in c:\\users\\admin\\appdata\\local\\programs\\python\\python310\\lib\\site-packages (from spacy) (0.16.0)\n",
      "Requirement already satisfied: tqdm<5.0.0,>=4.38.0 in c:\\users\\admin\\appdata\\local\\programs\\python\\python310\\lib\\site-packages (from spacy) (4.67.1)\n",
      "Requirement already satisfied: numpy>=1.19.0 in c:\\users\\admin\\appdata\\local\\programs\\python\\python310\\lib\\site-packages (from spacy) (2.1.3)\n",
      "Requirement already satisfied: requests<3.0.0,>=2.13.0 in c:\\users\\admin\\appdata\\local\\programs\\python\\python310\\lib\\site-packages (from spacy) (2.32.4)\n",
      "Requirement already satisfied: pydantic!=1.8,!=1.8.1,<3.0.0,>=1.7.4 in c:\\users\\admin\\appdata\\local\\programs\\python\\python310\\lib\\site-packages (from spacy) (2.11.7)\n",
      "Requirement already satisfied: jinja2 in c:\\users\\admin\\appdata\\local\\programs\\python\\python310\\lib\\site-packages (from spacy) (3.1.6)\n",
      "Requirement already satisfied: setuptools in c:\\users\\admin\\appdata\\local\\programs\\python\\python310\\lib\\site-packages (from spacy) (65.5.0)\n",
      "Requirement already satisfied: packaging>=20.0 in c:\\users\\admin\\appdata\\local\\programs\\python\\python310\\lib\\site-packages (from spacy) (25.0)\n",
      "Requirement already satisfied: langcodes<4.0.0,>=3.2.0 in c:\\users\\admin\\appdata\\local\\programs\\python\\python310\\lib\\site-packages (from spacy) (3.5.0)\n",
      "Requirement already satisfied: language-data>=1.2 in c:\\users\\admin\\appdata\\local\\programs\\python\\python310\\lib\\site-packages (from langcodes<4.0.0,>=3.2.0->spacy) (1.3.0)\n",
      "Requirement already satisfied: annotated-types>=0.6.0 in c:\\users\\admin\\appdata\\local\\programs\\python\\python310\\lib\\site-packages (from pydantic!=1.8,!=1.8.1,<3.0.0,>=1.7.4->spacy) (0.7.0)\n",
      "Requirement already satisfied: pydantic-core==2.33.2 in c:\\users\\admin\\appdata\\local\\programs\\python\\python310\\lib\\site-packages (from pydantic!=1.8,!=1.8.1,<3.0.0,>=1.7.4->spacy) (2.33.2)\n",
      "Requirement already satisfied: typing-extensions>=4.12.2 in c:\\users\\admin\\appdata\\local\\programs\\python\\python310\\lib\\site-packages (from pydantic!=1.8,!=1.8.1,<3.0.0,>=1.7.4->spacy) (4.14.1)\n",
      "Requirement already satisfied: typing-inspection>=0.4.0 in c:\\users\\admin\\appdata\\local\\programs\\python\\python310\\lib\\site-packages (from pydantic!=1.8,!=1.8.1,<3.0.0,>=1.7.4->spacy) (0.4.1)\n",
      "Requirement already satisfied: charset_normalizer<4,>=2 in c:\\users\\admin\\appdata\\local\\programs\\python\\python310\\lib\\site-packages (from requests<3.0.0,>=2.13.0->spacy) (3.4.2)\n",
      "Requirement already satisfied: idna<4,>=2.5 in c:\\users\\admin\\appdata\\local\\programs\\python\\python310\\lib\\site-packages (from requests<3.0.0,>=2.13.0->spacy) (3.10)\n",
      "Requirement already satisfied: urllib3<3,>=1.21.1 in c:\\users\\admin\\appdata\\local\\programs\\python\\python310\\lib\\site-packages (from requests<3.0.0,>=2.13.0->spacy) (2.5.0)\n",
      "Requirement already satisfied: certifi>=2017.4.17 in c:\\users\\admin\\appdata\\local\\programs\\python\\python310\\lib\\site-packages (from requests<3.0.0,>=2.13.0->spacy) (2025.7.14)\n",
      "Requirement already satisfied: blis<1.4.0,>=1.3.0 in c:\\users\\admin\\appdata\\local\\programs\\python\\python310\\lib\\site-packages (from thinc<8.4.0,>=8.3.4->spacy) (1.3.0)\n",
      "Requirement already satisfied: confection<1.0.0,>=0.0.1 in c:\\users\\admin\\appdata\\local\\programs\\python\\python310\\lib\\site-packages (from thinc<8.4.0,>=8.3.4->spacy) (0.1.5)\n",
      "Requirement already satisfied: colorama in c:\\users\\admin\\appdata\\local\\programs\\python\\python310\\lib\\site-packages (from tqdm<5.0.0,>=4.38.0->spacy) (0.4.6)\n",
      "Requirement already satisfied: click>=8.0.0 in c:\\users\\admin\\appdata\\local\\programs\\python\\python310\\lib\\site-packages (from typer<1.0.0,>=0.3.0->spacy) (8.2.1)\n",
      "Requirement already satisfied: shellingham>=1.3.0 in c:\\users\\admin\\appdata\\local\\programs\\python\\python310\\lib\\site-packages (from typer<1.0.0,>=0.3.0->spacy) (1.5.4)\n",
      "Requirement already satisfied: rich>=10.11.0 in c:\\users\\admin\\appdata\\local\\programs\\python\\python310\\lib\\site-packages (from typer<1.0.0,>=0.3.0->spacy) (14.0.0)\n",
      "Requirement already satisfied: cloudpathlib<1.0.0,>=0.7.0 in c:\\users\\admin\\appdata\\local\\programs\\python\\python310\\lib\\site-packages (from weasel<0.5.0,>=0.1.0->spacy) (0.21.1)\n",
      "Requirement already satisfied: smart-open<8.0.0,>=5.2.1 in c:\\users\\admin\\appdata\\local\\programs\\python\\python310\\lib\\site-packages (from weasel<0.5.0,>=0.1.0->spacy) (7.3.0.post1)\n",
      "Requirement already satisfied: wrapt in c:\\users\\admin\\appdata\\local\\programs\\python\\python310\\lib\\site-packages (from smart-open<8.0.0,>=5.2.1->weasel<0.5.0,>=0.1.0->spacy) (1.17.2)\n",
      "Requirement already satisfied: marisa-trie>=1.1.0 in c:\\users\\admin\\appdata\\local\\programs\\python\\python310\\lib\\site-packages (from language-data>=1.2->langcodes<4.0.0,>=3.2.0->spacy) (1.2.1)\n",
      "Requirement already satisfied: markdown-it-py>=2.2.0 in c:\\users\\admin\\appdata\\local\\programs\\python\\python310\\lib\\site-packages (from rich>=10.11.0->typer<1.0.0,>=0.3.0->spacy) (3.0.0)\n",
      "Requirement already satisfied: pygments<3.0.0,>=2.13.0 in c:\\users\\admin\\appdata\\local\\programs\\python\\python310\\lib\\site-packages (from rich>=10.11.0->typer<1.0.0,>=0.3.0->spacy) (2.19.2)\n",
      "Requirement already satisfied: mdurl~=0.1 in c:\\users\\admin\\appdata\\local\\programs\\python\\python310\\lib\\site-packages (from markdown-it-py>=2.2.0->rich>=10.11.0->typer<1.0.0,>=0.3.0->spacy) (0.1.2)\n",
      "Requirement already satisfied: MarkupSafe>=2.0 in c:\\users\\admin\\appdata\\local\\programs\\python\\python310\\lib\\site-packages (from jinja2->spacy) (3.0.2)\n"
     ]
    }
   ],
   "source": [
    "!pip install spacy"
   ]
  },
  {
   "cell_type": "markdown",
   "id": "bca712eb-f416-48f2-9b16-dc7d1054d744",
   "metadata": {},
   "source": [
    "# NAMED ENTITY RECOGNITION"
   ]
  },
  {
   "cell_type": "code",
   "execution_count": 21,
   "id": "02b52950-580e-4862-a454-a725e6dd5662",
   "metadata": {},
   "outputs": [
    {
     "name": "stdout",
     "output_type": "stream",
     "text": [
      "['Barack', 'Obama', 'USA', 'INDIA']\n"
     ]
    }
   ],
   "source": [
    "import nltk\n",
    "from nltk import word_tokenize, pos_tag, ne_chunk, sent_tokenize\n",
    "\n",
    "input = \"Barack Obama went as a prime minister of USA in the year of 2015 . PM MODI is the prime minister of INDIA.\"\n",
    "ner = ne_chunk(pos_tag(word_tokenize(input)))\n",
    "# print(ner)\n",
    "\n",
    "from nltk.tree import Tree\n",
    "named_entity = []\n",
    "for subtree in ner:\n",
    "    if isinstance(subtree, Tree):\n",
    "        entity = \"\".join([token for token, pos in subtree.leaves()])\n",
    "        named_entity.append(entity)\n",
    "print(named_entity)"
   ]
  },
  {
   "cell_type": "code",
   "execution_count": 25,
   "id": "312f9a45-4f0c-472f-9e76-c8986b887d49",
   "metadata": {},
   "outputs": [
    {
     "name": "stdout",
     "output_type": "stream",
     "text": [
      "Collecting en-core-web-sm==3.8.0\n",
      "  Downloading https://github.com/explosion/spacy-models/releases/download/en_core_web_sm-3.8.0/en_core_web_sm-3.8.0-py3-none-any.whl (12.8 MB)\n",
      "     ---------------------------------------- 0.0/12.8 MB ? eta -:--:--\n",
      "     ---------------------------------------- 0.0/12.8 MB ? eta -:--:--\n",
      "      --------------------------------------- 0.3/12.8 MB ? eta -:--:--\n",
      "      --------------------------------------- 0.3/12.8 MB ? eta -:--:--\n",
      "      --------------------------------------- 0.3/12.8 MB ? eta -:--:--\n",
      "     - ------------------------------------- 0.5/12.8 MB 409.6 kB/s eta 0:00:30\n",
      "     -- ------------------------------------ 0.8/12.8 MB 599.2 kB/s eta 0:00:21\n",
      "     -- ------------------------------------ 0.8/12.8 MB 599.2 kB/s eta 0:00:21\n",
      "     --- ----------------------------------- 1.0/12.8 MB 547.3 kB/s eta 0:00:22\n",
      "     --- ----------------------------------- 1.0/12.8 MB 547.3 kB/s eta 0:00:22\n",
      "     --- ----------------------------------- 1.3/12.8 MB 588.8 kB/s eta 0:00:20\n",
      "     --- ----------------------------------- 1.3/12.8 MB 588.8 kB/s eta 0:00:20\n",
      "     ---- ---------------------------------- 1.6/12.8 MB 586.7 kB/s eta 0:00:20\n",
      "     ----- --------------------------------- 1.8/12.8 MB 629.1 kB/s eta 0:00:18\n",
      "     ----- --------------------------------- 1.8/12.8 MB 629.1 kB/s eta 0:00:18\n",
      "     ------ -------------------------------- 2.1/12.8 MB 652.6 kB/s eta 0:00:17\n",
      "     ------- ------------------------------- 2.4/12.8 MB 688.3 kB/s eta 0:00:16\n",
      "     ------- ------------------------------- 2.4/12.8 MB 688.3 kB/s eta 0:00:16\n",
      "     ------- ------------------------------- 2.4/12.8 MB 688.3 kB/s eta 0:00:16\n",
      "     ------- ------------------------------- 2.6/12.8 MB 621.4 kB/s eta 0:00:17\n",
      "     ------- ------------------------------- 2.6/12.8 MB 621.4 kB/s eta 0:00:17\n",
      "     ------- ------------------------------- 2.6/12.8 MB 621.4 kB/s eta 0:00:17\n",
      "     ------- ------------------------------- 2.6/12.8 MB 621.4 kB/s eta 0:00:17\n",
      "     ------- ------------------------------- 2.6/12.8 MB 621.4 kB/s eta 0:00:17\n",
      "     -------- ------------------------------ 2.9/12.8 MB 537.7 kB/s eta 0:00:19\n",
      "     -------- ------------------------------ 2.9/12.8 MB 537.7 kB/s eta 0:00:19\n",
      "     -------- ------------------------------ 2.9/12.8 MB 537.7 kB/s eta 0:00:19\n",
      "     --------- ----------------------------- 3.1/12.8 MB 533.4 kB/s eta 0:00:19\n",
      "     --------- ----------------------------- 3.1/12.8 MB 533.4 kB/s eta 0:00:19\n",
      "     ---------- ---------------------------- 3.4/12.8 MB 529.9 kB/s eta 0:00:18\n",
      "     ----------- --------------------------- 3.7/12.8 MB 550.8 kB/s eta 0:00:17\n",
      "     ----------- --------------------------- 3.7/12.8 MB 550.8 kB/s eta 0:00:17\n",
      "     ----------- --------------------------- 3.9/12.8 MB 559.3 kB/s eta 0:00:16\n",
      "     ----------- --------------------------- 3.9/12.8 MB 559.3 kB/s eta 0:00:16\n",
      "     ------------ -------------------------- 4.2/12.8 MB 572.0 kB/s eta 0:00:16\n",
      "     ------------- ------------------------- 4.5/12.8 MB 576.1 kB/s eta 0:00:15\n",
      "     -------------- ------------------------ 4.7/12.8 MB 593.0 kB/s eta 0:00:14\n",
      "     -------------- ------------------------ 4.7/12.8 MB 593.0 kB/s eta 0:00:14\n",
      "     --------------- ----------------------- 5.0/12.8 MB 606.4 kB/s eta 0:00:13\n",
      "     --------------- ----------------------- 5.2/12.8 MB 616.6 kB/s eta 0:00:13\n",
      "     ---------------- ---------------------- 5.5/12.8 MB 629.5 kB/s eta 0:00:12\n",
      "     ----------------- --------------------- 5.8/12.8 MB 641.8 kB/s eta 0:00:11\n",
      "     ----------------- --------------------- 5.8/12.8 MB 641.8 kB/s eta 0:00:11\n",
      "     ------------------ -------------------- 6.0/12.8 MB 644.2 kB/s eta 0:00:11\n",
      "     ------------------ -------------------- 6.0/12.8 MB 644.2 kB/s eta 0:00:11\n",
      "     ------------------- ------------------- 6.3/12.8 MB 637.8 kB/s eta 0:00:11\n",
      "     ------------------- ------------------- 6.3/12.8 MB 637.8 kB/s eta 0:00:11\n",
      "     ------------------- ------------------- 6.3/12.8 MB 637.8 kB/s eta 0:00:11\n",
      "     ------------------- ------------------- 6.6/12.8 MB 626.2 kB/s eta 0:00:10\n",
      "     ------------------- ------------------- 6.6/12.8 MB 626.2 kB/s eta 0:00:10\n",
      "     -------------------- ------------------ 6.8/12.8 MB 625.1 kB/s eta 0:00:10\n",
      "     -------------------- ------------------ 6.8/12.8 MB 625.1 kB/s eta 0:00:10\n",
      "     --------------------- ----------------- 7.1/12.8 MB 628.6 kB/s eta 0:00:10\n",
      "     ---------------------- ---------------- 7.3/12.8 MB 635.4 kB/s eta 0:00:09\n",
      "     ---------------------- ---------------- 7.3/12.8 MB 635.4 kB/s eta 0:00:09\n",
      "     ----------------------- --------------- 7.6/12.8 MB 640.0 kB/s eta 0:00:09\n",
      "     ----------------------- --------------- 7.9/12.8 MB 647.0 kB/s eta 0:00:08\n",
      "     ------------------------ -------------- 8.1/12.8 MB 653.7 kB/s eta 0:00:08\n",
      "     ------------------------ -------------- 8.1/12.8 MB 653.7 kB/s eta 0:00:08\n",
      "     ------------------------- ------------- 8.4/12.8 MB 659.2 kB/s eta 0:00:07\n",
      "     -------------------------- ------------ 8.7/12.8 MB 663.7 kB/s eta 0:00:07\n",
      "     -------------------------- ------------ 8.7/12.8 MB 663.7 kB/s eta 0:00:07\n",
      "     --------------------------- ----------- 8.9/12.8 MB 668.7 kB/s eta 0:00:06\n",
      "     --------------------------- ----------- 9.2/12.8 MB 667.2 kB/s eta 0:00:06\n",
      "     --------------------------- ----------- 9.2/12.8 MB 667.2 kB/s eta 0:00:06\n",
      "     ---------------------------- ---------- 9.4/12.8 MB 674.2 kB/s eta 0:00:05\n",
      "     ----------------------------- --------- 9.7/12.8 MB 682.5 kB/s eta 0:00:05\n",
      "     ----------------------------- --------- 9.7/12.8 MB 682.5 kB/s eta 0:00:05\n",
      "     ----------------------------- -------- 10.0/12.8 MB 679.2 kB/s eta 0:00:05\n",
      "     ------------------------------ ------- 10.2/12.8 MB 682.6 kB/s eta 0:00:04\n",
      "     ------------------------------- ------ 10.5/12.8 MB 690.2 kB/s eta 0:00:04\n",
      "     ------------------------------- ------ 10.7/12.8 MB 697.6 kB/s eta 0:00:03\n",
      "     -------------------------------- ----- 11.0/12.8 MB 704.8 kB/s eta 0:00:03\n",
      "     --------------------------------- ---- 11.3/12.8 MB 711.1 kB/s eta 0:00:03\n",
      "     ---------------------------------- --- 11.5/12.8 MB 717.8 kB/s eta 0:00:02\n",
      "     ----------------------------------- -- 11.8/12.8 MB 724.4 kB/s eta 0:00:02\n",
      "     ----------------------------------- -- 12.1/12.8 MB 730.2 kB/s eta 0:00:02\n",
      "     ------------------------------------ - 12.3/12.8 MB 736.4 kB/s eta 0:00:01\n",
      "     -------------------------------------  12.6/12.8 MB 742.5 kB/s eta 0:00:01\n",
      "     -------------------------------------  12.6/12.8 MB 742.5 kB/s eta 0:00:01\n",
      "     -------------------------------------- 12.8/12.8 MB 742.7 kB/s eta 0:00:00\n",
      "Installing collected packages: en-core-web-sm\n",
      "Successfully installed en-core-web-sm-3.8.0\n",
      "\u001b[38;5;2m[+] Download and installation successful\u001b[0m\n",
      "You can now load the package via spacy.load('en_core_web_sm')\n"
     ]
    }
   ],
   "source": [
    "!python -m spacy download en_core_web_sm\n"
   ]
  },
  {
   "cell_type": "code",
   "execution_count": 26,
   "id": "80f1d2d3-c889-4d1b-8f02-29efb6e0056f",
   "metadata": {},
   "outputs": [
    {
     "name": "stdout",
     "output_type": "stream",
     "text": [
      "['Barack Obama', 'USA', 'the year of 2015', 'PM MODI', 'INDIA']\n"
     ]
    }
   ],
   "source": [
    "#pip install spacy\n",
    "import spacy\n",
    "nlp = spacy.load(\"en_core_web_sm\")\n",
    "\n",
    "text = \"Barack Obama went as a prime minister of USA in the year of 2015 . PM MODI is the prime minister of INDIA.\"\n",
    "doc = nlp(text)\n",
    "named_entity = []\n",
    "for ent in doc.ents:\n",
    "    named_entity.append(ent.text)\n",
    "print(named_entity)"
   ]
  },
  {
   "cell_type": "markdown",
   "id": "863bd2e4-9ff3-47e7-8b43-607eb01bd6bc",
   "metadata": {},
   "source": [
    "# Predictive Analysis"
   ]
  },
  {
   "cell_type": "code",
   "execution_count": 27,
   "id": "20c9591e-b293-4b9e-b316-6033520c04e7",
   "metadata": {},
   "outputs": [
    {
     "name": "stdout",
     "output_type": "stream",
     "text": [
      "['appl boy cat', 'appl cat dog', 'dog egg fan']\n",
      "<Compressed Sparse Row sparse matrix of dtype 'float64'\n",
      "\twith 9 stored elements and shape (3, 6)>\n",
      "  Coords\tValues\n",
      "  (0, 0)\t0.5178561161676974\n",
      "  (0, 1)\t0.680918560398684\n",
      "  (0, 2)\t0.5178561161676974\n",
      "  (1, 0)\t0.5773502691896257\n",
      "  (1, 2)\t0.5773502691896257\n",
      "  (1, 3)\t0.5773502691896257\n",
      "  (2, 3)\t0.4736296010332684\n",
      "  (2, 4)\t0.6227660078332259\n",
      "  (2, 5)\t0.6227660078332259\n"
     ]
    }
   ],
   "source": [
    "# TF-IDF\n",
    "from nltk import word_tokenize\n",
    "from nltk.corpus import stopwords\n",
    "from nltk.stem import PorterStemmer\n",
    "#pip install scikit-learn\n",
    "from sklearn.feature_extraction.text import TfidfVectorizer\n",
    "\n",
    "stopwords = set(stopwords.words('english'))\n",
    "ps = PorterStemmer()\n",
    "vector = TfidfVectorizer()\n",
    "\n",
    "documents= [ \"apple boy cat\", \"apple cat dog\", \"dog egg fan\" ]\n",
    "\n",
    "preprocessed = []\n",
    "for doc in documents:\n",
    "    tokenization = word_tokenize(doc)\n",
    "    stop = [ps.stem(word) for word in tokenization if word not in stopwords]\n",
    "    preprocessed.append(\" \".join(stop))\n",
    "print(preprocessed)\n",
    "word_score = vector.fit_transform(preprocessed)\n",
    "print(word_score)"
   ]
  },
  {
   "cell_type": "markdown",
   "id": "7dafbe97-dc07-49a6-af94-a5247852ac5d",
   "metadata": {},
   "source": [
    "# SIMPLE LINEAR REGRESSION"
   ]
  },
  {
   "cell_type": "code",
   "execution_count": 28,
   "id": "f96f1e04-c84a-4925-9949-ce36ec35920c",
   "metadata": {},
   "outputs": [
    {
     "data": {
      "image/png": "[encoded data removed]",
      "text/plain": [
       "<Figure size 640x480 with 1 Axes>"
      ]
     },
     "metadata": {},
     "output_type": "display_data"
    }
   ],
   "source": [
    "import matplotlib.pyplot as plt\n",
    "\n",
    "x = [1,2,3,4,5,6,7,8,9]\n",
    "y = [4,7,1,2,4,5,7,8,5]\n",
    "\n",
    "def slr(x):\n",
    "    return slope * x + intercept\n",
    "\n",
    "from scipy import stats\n",
    "slope, intercept, r, p, std_err = stats.linregress(x,y)\n",
    "\n",
    "model = list(map(slr, x))\n",
    "plt.plot(x, model)\n",
    "\n",
    "plt.scatter(x,y)\n",
    "plt.show()"
   ]
  },
  {
   "cell_type": "markdown",
   "id": "d07829f0-de16-420b-b982-2669addef8af",
   "metadata": {},
   "source": [
    "# MULTIPLE LINEAR REGRESSION"
   ]
  },
  {
   "cell_type": "code",
   "execution_count": 29,
   "id": "93d83648-54fe-4ed8-bc6d-114c707d4764",
   "metadata": {},
   "outputs": [
    {
     "name": "stdout",
     "output_type": "stream",
     "text": [
      "      Id  SepalLengthCm  SepalWidthCm  PetalLengthCm  PetalWidthCm  \\\n",
      "0      1            5.1           3.5            1.4           0.2   \n",
      "1      2            4.9           3.0            1.4           0.2   \n",
      "2      3            4.7           3.2            1.3           0.2   \n",
      "3      4            4.6           3.1            1.5           0.2   \n",
      "4      5            5.0           3.6            1.4           0.2   \n",
      "..   ...            ...           ...            ...           ...   \n",
      "145  146            6.7           3.0            5.2           2.3   \n",
      "146  147            6.3           2.5            5.0           1.9   \n",
      "147  148            6.5           3.0            5.2           2.0   \n",
      "148  149            6.2           3.4            5.4           2.3   \n",
      "149  150            5.9           3.0            5.1           1.8   \n",
      "\n",
      "            Species  \n",
      "0       Iris-setosa  \n",
      "1       Iris-setosa  \n",
      "2       Iris-setosa  \n",
      "3       Iris-setosa  \n",
      "4       Iris-setosa  \n",
      "..              ...  \n",
      "145  Iris-virginica  \n",
      "146  Iris-virginica  \n",
      "147  Iris-virginica  \n",
      "148  Iris-virginica  \n",
      "149  Iris-virginica  \n",
      "\n",
      "[150 rows x 6 columns]\n",
      "[2.83146078 1.81009364 1.91689397 4.72637245 4.28679326 1.42391461\n",
      " 4.99956222 4.94616205 1.25752517 6.40149453 4.55998302 3.84721406\n",
      " 5.21935181 3.69262743 5.20136007 1.1805194  1.90509116 4.16200118\n",
      " 5.17775446 3.09284774 4.73817526 1.07933293 6.2469079  4.9163675\n",
      " 5.5757363  2.39188158 5.53413894 5.09455974 5.26094917 5.97371813]\n"
     ]
    }
   ],
   "source": [
    "import pandas as pd\n",
    "iris = pd.read_csv(\"IRIS.csv\")\n",
    "print(iris)\n",
    "import numpy as np\n",
    "\n",
    "x = iris[['SepalLengthCm', 'SepalWidthCm']]\n",
    "y = iris.PetalLengthCm\n",
    "\n",
    "from sklearn.model_selection import train_test_split\n",
    "x_train, x_test, y_train, y_test = train_test_split(x,y,test_size=0.2)\n",
    "\n",
    "from sklearn.linear_model import LinearRegression\n",
    "LR = LinearRegression()\n",
    "training = LR.fit(x_train, y_train)\n",
    "y_pred = LR.predict(x_test)\n",
    "print(y_pred)"
   ]
  },
  {
   "cell_type": "markdown",
   "id": "437cd32e-238f-4aa8-b8e4-73e4785a39a6",
   "metadata": {},
   "source": [
    "# SLR $ MLR with Performance Metrics"
   ]
  },
  {
   "cell_type": "code",
   "execution_count": 2,
   "id": "1e4d2c93-5903-43df-9c87-8ef667778b2d",
   "metadata": {},
   "outputs": [
    {
     "name": "stdout",
     "output_type": "stream",
     "text": [
      "      Id  SepalLengthCm  SepalWidthCm  PetalLengthCm  PetalWidthCm  \\\n",
      "0      1            5.1           3.5            1.4           0.2   \n",
      "1      2            4.9           3.0            1.4           0.2   \n",
      "2      3            4.7           3.2            1.3           0.2   \n",
      "3      4            4.6           3.1            1.5           0.2   \n",
      "4      5            5.0           3.6            1.4           0.2   \n",
      "..   ...            ...           ...            ...           ...   \n",
      "145  146            6.7           3.0            5.2           2.3   \n",
      "146  147            6.3           2.5            5.0           1.9   \n",
      "147  148            6.5           3.0            5.2           2.0   \n",
      "148  149            6.2           3.4            5.4           2.3   \n",
      "149  150            5.9           3.0            5.1           1.8   \n",
      "\n",
      "            Species  \n",
      "0       Iris-setosa  \n",
      "1       Iris-setosa  \n",
      "2       Iris-setosa  \n",
      "3       Iris-setosa  \n",
      "4       Iris-setosa  \n",
      "..              ...  \n",
      "145  Iris-virginica  \n",
      "146  Iris-virginica  \n",
      "147  Iris-virginica  \n",
      "148  Iris-virginica  \n",
      "149  Iris-virginica  \n",
      "\n",
      "[150 rows x 6 columns]\n",
      "[3.29583028 6.02428667 3.76666949 5.25839819 5.08172281 6.53428869\n",
      " 3.92332075 4.94421024 1.40981711 4.6691851  4.98337305 4.98337305\n",
      " 5.33672382 5.19921125 1.50816686 4.15918307 5.16004843 5.23837406\n",
      " 7.3785028  4.70834791 2.52905636 2.41245336 4.8267218  5.9450756\n",
      " 1.17395478 5.39502532 4.04169463 5.04255999 5.19921125 5.5133992 ] \n",
      "\n",
      "Mean Absoute Error:  0.5274605032530075\n",
      "Mean Squeared Error:  0.397277406728489\n",
      "RMSE:  0.6302994579788951\n",
      "[3.43139576 4.56469964 4.56469964 1.73143995 5.32023555 2.86474383\n",
      " 4.37581566 6.64242341 3.24251178 2.29809189 3.0536278  2.86474383\n",
      " 2.10920791 3.62027974 3.80916372 6.26465545 1.92032393 2.29809189\n",
      " 2.86474383 3.62027974 5.50911953 7.5868433  3.43139576 2.29809189\n",
      " 1.35367199 3.9980477  6.26465545 1.92032393 4.94246759 3.0536278 ] \n",
      "\n",
      "Mean Absoute Error:  0.8339737892996845\n",
      "Mean Squeared Error:  0.9018176740079793\n",
      "RMSE:  0.9496408131540995\n"
     ]
    }
   ],
   "source": [
    "import pandas as pd\n",
    "iris = pd.read_csv(\"IRIS.csv\")\n",
    "print(iris)\n",
    "\n",
    "import numpy as np\n",
    "\n",
    "x = iris[['SepalLengthCm', 'SepalWidthCm']]\n",
    "y = iris.PetalLengthCm\n",
    "\n",
    "from sklearn.model_selection import train_test_split\n",
    "x_train, x_test, y_train, y_test = train_test_split(x,y,test_size=0.2)\n",
    "\n",
    "from sklearn.linear_model import LinearRegression\n",
    "LR = LinearRegression()\n",
    "\n",
    "training = LR.fit(x_train, y_train)\n",
    "y_pred = LR.predict(x_test)\n",
    "print(y_pred, \"\\n\")\n",
    "\n",
    "#pip install numpy\n",
    "import numpy as np\n",
    "from sklearn import metrics\n",
    "\n",
    "MAE = metrics.mean_absolute_error(y_test, y_pred)\n",
    "print(\"Mean Absoute Error: \", MAE)\n",
    "MSE = metrics.mean_squared_error(y_test, y_pred)\n",
    "print(\"Mean Squeared Error: \", MSE)\n",
    "RMSE = np.sqrt(metrics.mean_squared_error(y_test, y_pred))\n",
    "print(\"RMSE: \", RMSE)\n",
    "\n",
    "\n",
    "import numpy as np\n",
    "\n",
    "x = iris[['SepalLengthCm']]\n",
    "y = iris.PetalLengthCm\n",
    "\n",
    "from sklearn.model_selection import train_test_split\n",
    "x_train, x_test, y_train, y_test = train_test_split(x,y,test_size=0.2)\n",
    "\n",
    "from sklearn.linear_model import LinearRegression\n",
    "LR = LinearRegression()\n",
    "\n",
    "training = LR.fit(x_train, y_train)\n",
    "y_pred = LR.predict(x_test)\n",
    "print(y_pred, \"\\n\")\n",
    "\n",
    "#pip install numpy\n",
    "import numpy as np\n",
    "from sklearn import metrics\n",
    "\n",
    "MAE = metrics.mean_absolute_error(y_test, y_pred)\n",
    "print(\"Mean Absoute Error: \", MAE)\n",
    "MSE = metrics.mean_squared_error(y_test, y_pred)\n",
    "print(\"Mean Squeared Error: \", MSE)\n",
    "RMSE = np.sqrt(metrics.mean_squared_error(y_test, y_pred))\n",
    "print(\"RMSE: \", RMSE)"
   ]
  },
  {
   "cell_type": "markdown",
   "id": "360588d4-9b51-4be6-92a4-7167661e6b02",
   "metadata": {},
   "source": [
    "# CLASSIFICATION"
   ]
  },
  {
   "cell_type": "code",
   "execution_count": 1,
   "id": "c96c3738-eea3-42a9-b6dc-224863cc55b9",
   "metadata": {},
   "outputs": [
    {
     "name": "stdout",
     "output_type": "stream",
     "text": [
      "[2 0 2 0 1 1 0 1 0 2 2 2 0 1 2 0 1 2 1 1 0 0 0 2 0 1 1 1 2 1]\n"
     ]
    }
   ],
   "source": [
    "from sklearn import datasets\n",
    "\n",
    "iris = datasets.load_iris()\n",
    "x = iris.data\n",
    "y = iris.target\n",
    "\n",
    "from sklearn.model_selection import train_test_split\n",
    "x_train, x_test, y_train, y_test  = train_test_split(x,y,train_size=0.8)\n",
    "\n",
    "from sklearn.neighbors import KNeighborsClassifier\n",
    "knn = KNeighborsClassifier()\n",
    "\n",
    "train = knn.fit(x_train, y_train)\n",
    "y_pred = knn.predict(x_test)\n",
    "print(y_pred)"
   ]
  },
  {
   "cell_type": "markdown",
   "id": "0e7db5ad-e0b6-4b65-b03f-d67d07ffe9f0",
   "metadata": {},
   "source": [
    "# KNN"
   ]
  },
  {
   "cell_type": "code",
   "execution_count": 3,
   "id": "72513e93-e3f3-476f-b591-0652e693f55b",
   "metadata": {},
   "outputs": [
    {
     "name": "stdout",
     "output_type": "stream",
     "text": [
      "[1 0 1 0 2 0 0 2 2 2 0 0 1 0 2 0 2 0 1 2 0 2 2 1 1 0 1 0 2 2]\n",
      "\n",
      "Accuracy :  0.9333333333333333\n",
      "Precision :  0.9393939393939394\n",
      "Recall :  0.9259259259259259\n",
      "F1-SCORE :  0.9249999999999999\n",
      "AUC :  0.9947089947089948\n"
     ]
    }
   ],
   "source": [
    "from sklearn import datasets\n",
    "iris = datasets.load_iris()\n",
    "\n",
    "x = iris.data\n",
    "y = iris.target\n",
    "\n",
    "from sklearn.model_selection import train_test_split\n",
    "x_train, x_test, y_train, y_test = train_test_split(x,y,train_size=0.8)\n",
    "\n",
    "from sklearn.neighbors import KNeighborsClassifier\n",
    "knn = KNeighborsClassifier()\n",
    "\n",
    "train = knn.fit(x_train, y_train)\n",
    "y_pred = knn.predict(x_test)\n",
    "print(y_pred)\n",
    "y_auc = knn.predict_proba(x_test)\n",
    "\n",
    "from sklearn.metrics import accuracy_score, precision_score, recall_score, f1_score, roc_auc_score\n",
    "Accuracy = accuracy_score(y_test, y_pred)\n",
    "Precision = precision_score(y_test, y_pred, average='macro')\n",
    "Recall = recall_score(y_test, y_pred, average='macro')\n",
    "f1 = f1_score(y_test, y_pred, average='macro')\n",
    "auc = roc_auc_score(y_test, y_auc, multi_class='ovr')\n",
    "\n",
    "print(\"\\nAccuracy : \", Accuracy)\n",
    "print(\"Precision : \", Precision)\n",
    "print(\"Recall : \", Recall)\n",
    "print(\"F1-SCORE : \", f1)\n",
    "print(\"AUC : \", auc)"
   ]
  },
  {
   "cell_type": "markdown",
   "id": "db11d8cb-c5d4-4bc2-b0c1-fb500b915eea",
   "metadata": {},
   "source": [
    "# Decision Tree"
   ]
  },
  {
   "cell_type": "code",
   "execution_count": 1,
   "id": "27f9def6-623e-47ed-b1b3-96a3cbbd1608",
   "metadata": {},
   "outputs": [
    {
     "name": "stdout",
     "output_type": "stream",
     "text": [
      "[0 0 2 2 0 0 0 2 2 0 0 2 2 0 2 2 0 1 0 0 1 1 1 1 1 2 1 2 1 2]\n",
      "\n",
      "Accuracy :  0.9333333333333333\n",
      "Precision :  0.9280303030303031\n",
      "Recall :  0.9280303030303031\n",
      "F1-SCORE :  0.9280303030303031\n",
      "AUC :  0.9476674641148325\n"
     ]
    }
   ],
   "source": [
    "from sklearn import datasets\n",
    "iris = datasets.load_iris()\n",
    "\n",
    "x = iris.data\n",
    "y = iris.target\n",
    "\n",
    "from sklearn.model_selection import train_test_split\n",
    "x_train, x_test, y_train, y_test = train_test_split(x,y,train_size=0.8)\n",
    "\n",
    "from sklearn.tree import DecisionTreeClassifier\n",
    "DT = DecisionTreeClassifier()\n",
    "\n",
    "train = DT.fit(x_train, y_train)\n",
    "y_pred = DT.predict(x_test)\n",
    "print(y_pred)\n",
    "y_auc = DT.predict_proba(x_test)\n",
    "\n",
    "from sklearn.metrics import accuracy_score, precision_score, recall_score, f1_score, roc_auc_score\n",
    "Accuracy = accuracy_score(y_test, y_pred)\n",
    "Precision = precision_score(y_test, y_pred, average='macro')\n",
    "Recall = recall_score(y_test, y_pred, average='macro')\n",
    "f1 = f1_score(y_test, y_pred, average='macro')\n",
    "auc = roc_auc_score(y_test, y_auc, multi_class='ovr')\n",
    "\n",
    "print(\"\\nAccuracy : \", Accuracy)\n",
    "print(\"Precision : \", Precision)\n",
    "print(\"Recall : \", Recall)\n",
    "print(\"F1-SCORE : \", f1)\n",
    "print(\"AUC : \", auc)"
   ]
  },
  {
   "cell_type": "markdown",
   "id": "d4d0ed6a-6ebc-4d21-ba52-c6bafd254926",
   "metadata": {},
   "source": [
    "# RANDOM FOREST"
   ]
  },
  {
   "cell_type": "code",
   "execution_count": 2,
   "id": "a9ef077f-67a2-4f89-aaa4-170e154499f9",
   "metadata": {},
   "outputs": [
    {
     "name": "stdout",
     "output_type": "stream",
     "text": [
      "[1 0 2 1 1 2 1 1 0 2 2 2 0 2 1 1 0 1 2 1 2 0 0 2 2 0 2 0 1 2]\n",
      "\n",
      "Accuracy :  1.0\n",
      "Precision :  1.0\n",
      "Recall :  1.0\n",
      "F1-SCORE :  1.0\n",
      "AUC :  1.0\n"
     ]
    }
   ],
   "source": [
    "from sklearn import datasets\n",
    "iris = datasets.load_iris()\n",
    "\n",
    "x = iris.data\n",
    "y = iris.target\n",
    "\n",
    "from sklearn.model_selection import train_test_split\n",
    "x_train, x_test, y_train, y_test = train_test_split(x,y,train_size=0.8)\n",
    "\n",
    "from sklearn.ensemble import RandomForestClassifier\n",
    "RF = RandomForestClassifier()\n",
    "\n",
    "train = RF.fit(x_train, y_train)\n",
    "y_pred = RF.predict(x_test)\n",
    "print(y_pred)\n",
    "y_auc = RF.predict_proba(x_test)\n",
    "\n",
    "from sklearn.metrics import accuracy_score, precision_score, recall_score, f1_score, roc_auc_score\n",
    "Accuracy = accuracy_score(y_test, y_pred)\n",
    "Precision = precision_score(y_test, y_pred, average='macro')\n",
    "Recall = recall_score(y_test, y_pred, average='macro')\n",
    "f1 = f1_score(y_test, y_pred, average='macro')\n",
    "auc = roc_auc_score(y_test, y_auc, multi_class='ovr')\n",
    "\n",
    "print(\"\\nAccuracy : \", Accuracy)\n",
    "print(\"Precision : \", Precision)\n",
    "print(\"Recall : \", Recall)\n",
    "print(\"F1-SCORE : \", f1)\n",
    "print(\"AUC : \", auc)"
   ]
  },
  {
   "cell_type": "code",
   "execution_count": null,
   "id": "da7a5d18-0a5f-4d5c-94fc-191413f896f0",
   "metadata": {},
   "outputs": [],
   "source": []
  }
 ],
 "metadata": {
  "kernelspec": {
   "display_name": "Python 3 (ipykernel)",
   "language": "python",
   "name": "python3"
  },
  "language_info": {
   "codemirror_mode": {
    "name": "ipython",
    "version": 3
   },
   "file_extension": ".py",
   "mimetype": "text/x-python",
   "name": "python",
   "nbconvert_exporter": "python",
   "pygments_lexer": "ipython3",
   "version": "3.10.11"
  }
 },
 "nbformat": 4,
 "nbformat_minor": 5
}
